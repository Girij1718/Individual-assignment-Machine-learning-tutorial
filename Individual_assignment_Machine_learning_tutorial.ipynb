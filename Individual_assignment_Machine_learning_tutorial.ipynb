{
  "cells": [
    {
      "cell_type": "code",
      "execution_count": 1,
      "id": "ddf7be95-f6c6-464c-8d0a-c1b47f4eb450",
      "metadata": {
        "id": "ddf7be95-f6c6-464c-8d0a-c1b47f4eb450"
      },
      "outputs": [],
      "source": [
        "import numpy as np\n",
        "import torch\n",
        "import torch.nn as nn\n",
        "import torch.optim as optim\n",
        "import torchvision\n",
        "import torchvision.transforms as transforms\n",
        "import matplotlib.pyplot as plt"
      ]
    },
    {
      "cell_type": "code",
      "execution_count": 2,
      "id": "68a3983c-2263-438b-b893-5d220ce692f3",
      "metadata": {
        "colab": {
          "base_uri": "https://localhost:8080/"
        },
        "id": "68a3983c-2263-438b-b893-5d220ce692f3",
        "outputId": "d7f474dc-26aa-4f4f-902b-fc90a1f26475"
      },
      "outputs": [
        {
          "output_type": "stream",
          "name": "stderr",
          "text": [
            "100%|██████████| 9.91M/9.91M [00:00<00:00, 37.7MB/s]\n",
            "100%|██████████| 28.9k/28.9k [00:00<00:00, 1.13MB/s]\n",
            "100%|██████████| 1.65M/1.65M [00:00<00:00, 10.2MB/s]\n",
            "100%|██████████| 4.54k/4.54k [00:00<00:00, 5.15MB/s]\n"
          ]
        }
      ],
      "source": [
        "# Load MNIST dataset\n",
        "transform = transforms.Compose([transforms.ToTensor(), transforms.Normalize((0.5,), (0.5,))])\n",
        "trainset = torchvision.datasets.MNIST(root='./data', train=True, download=True, transform=transform)\n",
        "testset = torchvision.datasets.MNIST(root='./data', train=False, download=True, transform=transform)\n",
        "trainloader = torch.utils.data.DataLoader(trainset, batch_size=64, shuffle=True)\n",
        "testloader = torch.utils.data.DataLoader(testset, batch_size=64, shuffle=False)"
      ]
    },
    {
      "cell_type": "code",
      "execution_count": 3,
      "id": "19fc9cd5-4e44-4091-97c5-3ca04f0c0380",
      "metadata": {
        "id": "19fc9cd5-4e44-4091-97c5-3ca04f0c0380"
      },
      "outputs": [],
      "source": [
        "# Define a simple MLP class\n",
        "class MLP(nn.Module):\n",
        "    def __init__(self, activation_function):\n",
        "        super(MLP, self).__init__()\n",
        "        self.flatten = nn.Flatten()\n",
        "        self.fc1 = nn.Linear(28*28, 128)\n",
        "        self.fc2 = nn.Linear(128, 64)\n",
        "        self.fc3 = nn.Linear(64, 10)\n",
        "        self.activation = activation_function\n",
        "\n",
        "    def forward(self, x):\n",
        "        x = self.flatten(x)\n",
        "        x = self.activation(self.fc1(x))\n",
        "        x = self.activation(self.fc2(x))\n",
        "        x = self.fc3(x)\n",
        "        return x"
      ]
    },
    {
      "cell_type": "code",
      "execution_count": 4,
      "id": "e9c8948d-7eac-47f5-8cb1-2c506294027a",
      "metadata": {
        "colab": {
          "base_uri": "https://localhost:8080/"
        },
        "id": "e9c8948d-7eac-47f5-8cb1-2c506294027a",
        "outputId": "4bb733b2-0b9d-4290-c571-a0d58ea05952"
      },
      "outputs": [
        {
          "output_type": "stream",
          "name": "stdout",
          "text": [
            "Training with activation: sigmoid\n",
            "Training with activation: tanh\n",
            "Training with activation: relu\n",
            "Training with activation: leaky_relu\n",
            "Training with activation: swish\n"
          ]
        }
      ],
      "source": [
        "# Define activation functions to test\n",
        "activations = {\n",
        "    'sigmoid': nn.Sigmoid(),\n",
        "    'tanh': nn.Tanh(),\n",
        "    'relu': nn.ReLU(),\n",
        "    'leaky_relu': nn.LeakyReLU(),\n",
        "    'swish': lambda x: x * torch.sigmoid(x)\n",
        "}\n",
        "\n",
        "results = {}\n",
        "\n",
        "device = torch.device(\"cuda\" if torch.cuda.is_available() else \"cpu\")\n",
        "criterion = nn.CrossEntropyLoss()\n",
        "\n",
        "for name, activation in activations.items():\n",
        "    print(f\"Training with activation: {name}\")\n",
        "    model = MLP(activation).to(device)\n",
        "    optimizer = optim.Adam(model.parameters(), lr=0.001)\n",
        "\n",
        "    train_losses, test_accuracies = [], []\n",
        "    for epoch in range(5):\n",
        "        model.train()\n",
        "        running_loss = 0.0\n",
        "        for images, labels in trainloader:\n",
        "            images, labels = images.to(device), labels.to(device)\n",
        "            optimizer.zero_grad()\n",
        "            outputs = model(images)\n",
        "            loss = criterion(outputs, labels)\n",
        "            loss.backward()\n",
        "            optimizer.step()\n",
        "            running_loss += loss.item()\n",
        "\n",
        "        train_losses.append(running_loss / len(trainloader))"
      ]
    },
    {
      "cell_type": "code",
      "execution_count": 5,
      "id": "3af4ac85-9e4c-4d86-bfa4-85314e2e0290",
      "metadata": {
        "colab": {
          "base_uri": "https://localhost:8080/"
        },
        "id": "3af4ac85-9e4c-4d86-bfa4-85314e2e0290",
        "outputId": "00199f06-6232-49d5-c1aa-53bd45c72cbb"
      },
      "outputs": [
        {
          "output_type": "stream",
          "name": "stdout",
          "text": [
            "Finished training with activation: swish\n",
            "\n"
          ]
        }
      ],
      "source": [
        "# Evaluate model\n",
        "model.eval()\n",
        "correct, total = 0, 0\n",
        "with torch.no_grad():\n",
        "    for images, labels in testloader:\n",
        "        images, labels = images.to(device), labels.to(device)\n",
        "        outputs = model(images)\n",
        "        _, predicted = torch.max(outputs, 1)\n",
        "        total += labels.size(0)\n",
        "        correct += (predicted == labels).sum().item()\n",
        "\n",
        "accuracy = correct / total\n",
        "test_accuracies.append(accuracy)\n",
        "\n",
        "# Ensure this line is correctly aligned\n",
        "results[name] = {'train_loss': train_losses, 'test_accuracy': test_accuracies}\n",
        "print(f\"Finished training with activation: {name}\\n\")\n"
      ]
    },
    {
      "cell_type": "code",
      "execution_count": 5,
      "id": "ed58681f-0d49-4bb0-9872-67bcb1ba40c6",
      "metadata": {
        "id": "ed58681f-0d49-4bb0-9872-67bcb1ba40c6"
      },
      "outputs": [],
      "source": []
    },
    {
      "cell_type": "code",
      "execution_count": 10,
      "id": "39d98d2d-3c76-45c1-ad51-229fddded9cb",
      "metadata": {
        "colab": {
          "base_uri": "https://localhost:8080/",
          "height": 499
        },
        "id": "39d98d2d-3c76-45c1-ad51-229fddded9cb",
        "outputId": "05c112dc-2b70-42e3-db94-1991f0c8ff99"
      },
      "outputs": [
        {
          "output_type": "stream",
          "name": "stdout",
          "text": [
            "\n",
            "\n",
            "\n",
            "\n"
          ]
        },
        {
          "output_type": "display_data",
          "data": {
            "text/plain": [
              "<Figure size 640x480 with 1 Axes>"
            ],
            "image/png": "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\n"
          },
          "metadata": {}
        }
      ],
      "source": [
        "for name in activations.keys():\n",
        "    corrected_name = name.lower()  # Ensure lowercase match\n",
        "    if corrected_name in results:\n",
        "        plt.plot(results[corrected_name]['test_accuracy'], label=f'Val Acc - {corrected_name}')\n",
        "    else:\n",
        "        print(f\"\")\n"
      ]
    },
    {
      "cell_type": "code",
      "source": [
        "plt.figure(figsize=(12, 5))\n",
        "for name in activations.keys():\n",
        "    if name in results:\n",
        "        plt.plot(results[name]['train_loss'], label=f'Train Loss - {name}')\n",
        "    else:\n",
        "        print("")
        "plt.title('Training Loss Comparison')\n",
        "plt.xlabel('Epochs')\n",
        "plt.ylabel('Loss')\n",
        "plt.legend()\n",
        "plt.show()\n"
      ],
      "metadata": {
        "colab": {
          "base_uri": "https://localhost:8080/",
          "height": 556
        },
        "id": "feqzMBt-91lY",
        "outputId": "1651f61f-22b1-44e4-a831-e4ce0bad9be2"
      },
      "id": "feqzMBt-91lY",
      "execution_count": 7,
      "outputs": [
        {
          "output_type": "stream",
          "name": "stdout",
          "text": [
            "Skipping sigmoid: Not found in results\n",
            "Skipping tanh: Not found in results\n",
            "Skipping relu: Not found in results\n",
            "Skipping leaky_relu: Not found in results\n"
          ]
        },
        {
          "output_type": "display_data",
          "data": {
            "text/plain": [
              "<Figure size 1200x500 with 1 Axes>"
            ],
            "image/png": "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\n"
          },
          "metadata": {}
        }
      ]
    },
    {
      "cell_type": "code",
      "source": [
        "print(\"Results dictionary:\", results)\n"
      ],
      "metadata": {
        "colab": {
          "base_uri": "https://localhost:8080/"
        },
        "id": "YxYTVDlX927r",
        "outputId": "1316c87d-ae54-4515-e147-6c33934e5b1c"
      },
      "id": "YxYTVDlX927r",
      "execution_count": 8,
      "outputs": [
        {
          "output_type": "stream",
          "name": "stdout",
          "text": [
            "Results dictionary: {'swish': {'train_loss': [0.3353611613506638, 0.15050877567166204, 0.11476303415714519, 0.09167573563029756, 0.07736259257681033], 'test_accuracy': [0.9699]}}\n"
          ]
        }
      ]
    },
    {
      "cell_type": "code",
      "source": [],
      "metadata": {
        "id": "mclBoyIL_D-D"
      },
      "id": "mclBoyIL_D-D",
      "execution_count": 8,
      "outputs": []
    }
  ],
  "metadata": {
    "kernelspec": {
      "display_name": "Python 3 (ipykernel)",
      "language": "python",
      "name": "python3"
    },
    "language_info": {
      "codemirror_mode": {
        "name": "ipython",
        "version": 3
      },
      "file_extension": ".py",
      "mimetype": "text/x-python",
      "name": "python",
      "nbconvert_exporter": "python",
      "pygments_lexer": "ipython3",
      "version": "3.12.4"
    },
    "colab": {
      "provenance": []
    }
  },
  "nbformat": 4,
  "nbformat_minor": 5
}
